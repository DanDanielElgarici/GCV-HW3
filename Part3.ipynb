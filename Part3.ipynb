{
 "cells": [
  {
   "metadata": {},
   "cell_type": "markdown",
   "source": [
    "The paper addresses the challenge of singularities arising in the mean-curvature flow (MCF) of surfaces.\n",
    "this papers' tries to alleviate the problem of singularities in mean-curvature flow. MCF can lead to numerical instabilities, especially due to division by zero in its discretization, causing the evolution to become singular.\n",
    "the papers’ main contributions :\n",
    "1) Identify that the standard discretization of MCF can result in numerical instabilities, particularly division by zero, leading to singularities during the surface evolution.\n",
    "2) Introducing a modified version of MCF that eliminates the division by zero issue in the discretization. This adjustment not only stabilizes the numerical implementation but also simplifies both the discrete and continuous formulations of the flow.\n",
    "3) Empirical evidence demonstrates that this modified flow provides a stable evolution for genus-zero surfaces and converges to a conformal parameterization onto the sphere.\n",
    "\n",
    "The authors tackled this problem by proposing a reformulation of the MCF that avoids singular behavior by modifying the discretization to eliminate divisions by small or zero values, showing that this change leads to a non-singular evolution."
   ],
   "id": "ff7ef34dbf1d0101"
  },
  {
   "metadata": {},
   "cell_type": "markdown",
   "source": [
    "\"find an implementation example that uses the process described in the paper.\"\n",
    "Apply it to two different meshes and plot the results.\n",
    "\n",
    "the process described in the paper is the Conformalized Mean Curvature Flow - example:"
   ],
   "id": "cb5eb629f3f66eb9"
  },
  {
   "metadata": {
    "ExecuteTime": {
     "end_time": "2025-05-17T21:04:17.727310Z",
     "start_time": "2025-05-17T21:04:17.722830Z"
    }
   },
   "cell_type": "code",
   "source": [
    "import igl\n",
    "import numpy as np\n",
    "import meshplot as mp\n",
    "from scipy.sparse.linalg import factorized\n",
    "import time\n"
   ],
   "id": "27e8f03430dfc1d",
   "outputs": [],
   "execution_count": 30
  },
  {
   "metadata": {
    "ExecuteTime": {
     "end_time": "2025-05-17T21:04:18.030061Z",
     "start_time": "2025-05-17T21:04:18.023385Z"
    }
   },
   "cell_type": "code",
   "source": [
    "# Function to evolve the mesh\n",
    "def make_evolutions(path, steps=30, delta=5e-4):\n",
    "    vertices, faces = igl.read_triangle_mesh(path)\n",
    "    updated_vertex = [vertices]\n",
    "\n",
    "    normals = (igl.per_vertex_normals(vertices, faces) + 1) / 2\n",
    "    color_values = np.linalg.norm(normals, axis=1)\n",
    "    updated_colors = [color_values]\n",
    "\n",
    "    laplacian = igl.cotmatrix(vertices, faces)\n",
    "    mass_mat = igl.massmatrix(vertices, faces, igl.MASSMATRIX_TYPE_BARYCENTRIC)\n",
    "    system_mat = mass_mat - delta * laplacian\n",
    "    solve = factorized(system_mat)\n",
    "\n",
    "    while steps > 0:\n",
    "        vertices = solve(mass_mat @ vertices)\n",
    "        normals = (igl.per_vertex_normals(vertices, faces) + 1) / 2\n",
    "        color_values = np.linalg.norm(normals, axis=1)\n",
    "        updated_vertex.append(vertices)\n",
    "        updated_colors.append(color_values)\n",
    "        steps -= 1\n",
    "\n",
    "    return updated_vertex, faces, updated_colors"
   ],
   "id": "7de84e7b4788d575",
   "outputs": [],
   "execution_count": 31
  },
  {
   "metadata": {
    "ExecuteTime": {
     "end_time": "2025-05-17T21:04:19.646548Z",
     "start_time": "2025-05-17T21:04:19.643862Z"
    }
   },
   "cell_type": "code",
   "source": [
    "def plot_evolution(vertices_list, faces, colors_list=None, step=5):\n",
    "    n = len(vertices_list)\n",
    "    num_plots = (n + step - 1) // step\n",
    "    p = None\n",
    "    for i in range(0, n, step):\n",
    "        idx = i // step\n",
    "        v = vertices_list[i]\n",
    "        c = colors_list[i] if colors_list else None\n",
    "        p = mp.subplot(v, faces, s=[1, num_plots, idx], data=p, c=c, shading={\"wireframe\": False})\n",
    "\n"
   ],
   "id": "a05415e8ce246028",
   "outputs": [],
   "execution_count": 33
  },
  {
   "metadata": {
    "ExecuteTime": {
     "end_time": "2025-05-17T21:06:20.720099Z",
     "start_time": "2025-05-17T21:06:20.304531Z"
    }
   },
   "cell_type": "code",
   "source": [
    "verts, faces, colors = make_evolutions(\"mesh_data/bunny.off\")\n",
    "verts2, faces2, colors2 = make_evolutions(\"mesh_data/lion-00.off\")\n",
    "\n",
    "plot_evolution(verts, faces, colors)\n",
    "plot_evolution(verts2, faces2, colors2)"
   ],
   "id": "a866368d444373b6",
   "outputs": [
    {
     "data": {
      "text/plain": [
       "HBox(children=(Output(), Output(), Output(), Output(), Output(), Output(), Output()))"
      ],
      "application/vnd.jupyter.widget-view+json": {
       "version_major": 2,
       "version_minor": 0,
       "model_id": "80ec2d47d4804b7aa64539a6354b5cbf"
      }
     },
     "metadata": {},
     "output_type": "display_data"
    },
    {
     "data": {
      "text/plain": [
       "HBox(children=(Output(), Output(), Output(), Output(), Output(), Output(), Output()))"
      ],
      "application/vnd.jupyter.widget-view+json": {
       "version_major": 2,
       "version_minor": 0,
       "model_id": "1a38235232494f1d90ab810096285018"
      }
     },
     "metadata": {},
     "output_type": "display_data"
    },
    {
     "data": {
      "text/plain": [
       "HBox(children=(Output(), Output(), Output(), Output(), Output(), Output(), Output()))"
      ],
      "application/vnd.jupyter.widget-view+json": {
       "version_major": 2,
       "version_minor": 0,
       "model_id": "e2a6490e49264830b516207cb7a8a15e"
      }
     },
     "metadata": {},
     "output_type": "display_data"
    },
    {
     "data": {
      "text/plain": [
       "HBox(children=(Output(), Output(), Output(), Output(), Output(), Output(), Output()))"
      ],
      "application/vnd.jupyter.widget-view+json": {
       "version_major": 2,
       "version_minor": 0,
       "model_id": "8a5c629aaf7543af9ef4bfb6fcce4a34"
      }
     },
     "metadata": {},
     "output_type": "display_data"
    },
    {
     "data": {
      "text/plain": [
       "HBox(children=(Output(), Output(), Output(), Output(), Output(), Output(), Output()))"
      ],
      "application/vnd.jupyter.widget-view+json": {
       "version_major": 2,
       "version_minor": 0,
       "model_id": "43ef7ac492404753a92be594af786286"
      }
     },
     "metadata": {},
     "output_type": "display_data"
    },
    {
     "data": {
      "text/plain": [
       "HBox(children=(Output(), Output(), Output(), Output(), Output(), Output(), Output()))"
      ],
      "application/vnd.jupyter.widget-view+json": {
       "version_major": 2,
       "version_minor": 0,
       "model_id": "12198f176e2a4d79b174b19ff94eece6"
      }
     },
     "metadata": {},
     "output_type": "display_data"
    },
    {
     "data": {
      "text/plain": [
       "HBox(children=(Output(), Output(), Output(), Output(), Output(), Output(), Output()))"
      ],
      "application/vnd.jupyter.widget-view+json": {
       "version_major": 2,
       "version_minor": 0,
       "model_id": "dde7558a2ffe400780769a37656a7f94"
      }
     },
     "metadata": {},
     "output_type": "display_data"
    },
    {
     "data": {
      "text/plain": [
       "HBox(children=(Output(), Output(), Output(), Output(), Output(), Output(), Output()))"
      ],
      "application/vnd.jupyter.widget-view+json": {
       "version_major": 2,
       "version_minor": 0,
       "model_id": "a02e2ce2c0ea4d6096f3ae09d6fb7635"
      }
     },
     "metadata": {},
     "output_type": "display_data"
    }
   ],
   "execution_count": null
  },
  {
   "metadata": {},
   "cell_type": "code",
   "outputs": [],
   "execution_count": null,
   "source": "",
   "id": "dd1c8b9397a94fce"
  }
 ],
 "metadata": {
  "kernelspec": {
   "display_name": "Python 3",
   "language": "python",
   "name": "python3"
  },
  "language_info": {
   "codemirror_mode": {
    "name": "ipython",
    "version": 2
   },
   "file_extension": ".py",
   "mimetype": "text/x-python",
   "name": "python",
   "nbconvert_exporter": "python",
   "pygments_lexer": "ipython2",
   "version": "2.7.6"
  }
 },
 "nbformat": 4,
 "nbformat_minor": 5
}
